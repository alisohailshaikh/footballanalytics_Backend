{
 "cells": [
  {
   "cell_type": "code",
   "execution_count": 8,
   "metadata": {},
   "outputs": [
    {
     "data": {
      "image/png": "[encoded data removed]",
      "text/plain": [
       "<Figure size 640x480 with 1 Axes>"
      ]
     },
     "metadata": {},
     "output_type": "display_data"
    }
   ],
   "source": [
    "import pandas as pd\n",
    "from mplsoccer import Pitch\n",
    "import matplotlib.pyplot as plt\n",
    "\n",
    "# Paste or type your script code here:\n",
    "from mplsoccer import VerticalPitch\n",
    "df = pd.read_csv('shots_test.csv')\n",
    "\n",
    "pitch = VerticalPitch(half=True, pitch_color= 'green', goal_type='box', goal_alpha=1)\n",
    "fig, ax = pitch.draw()\n",
    "filtered_df = df[df['isHome'] == True]\n",
    "filtered_df['yCoord'] = ((filtered_df['yCoord']) * 80)/100\n",
    "filtered_df.loc[filtered_df['xCoord'] < 120, 'xCoord'] = 119 - filtered_df['xCoord']"
   ]
  },
  {
   "cell_type": "code",
   "execution_count": 14,
   "metadata": {},
   "outputs": [
    {
     "data": {
      "text/html": [
       "<div>\n",
       "<style scoped>\n",
       "    .dataframe tbody tr th:only-of-type {\n",
       "        vertical-align: middle;\n",
       "    }\n",
       "\n",
       "    .dataframe tbody tr th {\n",
       "        vertical-align: top;\n",
       "    }\n",
       "\n",
       "    .dataframe thead th {\n",
       "        text-align: right;\n",
       "    }\n",
       "</style>\n",
       "<table border=\"1\" class=\"dataframe\">\n",
       "  <thead>\n",
       "    <tr style=\"text-align: right;\">\n",
       "      <th></th>\n",
       "      <th>Unnamed: 0</th>\n",
       "      <th>name</th>\n",
       "      <th>position</th>\n",
       "      <th>jerseyNumber</th>\n",
       "      <th>isHome</th>\n",
       "      <th>shotType</th>\n",
       "      <th>situation</th>\n",
       "      <th>bodyPart</th>\n",
       "      <th>goalMouthLocation</th>\n",
       "      <th>xg</th>\n",
       "      <th>...</th>\n",
       "      <th>yCoord</th>\n",
       "      <th>GoalMouthxCoord</th>\n",
       "      <th>GoalMouthyCoord</th>\n",
       "      <th>GoalMouthzCoord</th>\n",
       "      <th>BlockxCoord</th>\n",
       "      <th>BlockyCoord</th>\n",
       "      <th>Minute</th>\n",
       "      <th>EndLocxCoord</th>\n",
       "      <th>EndLocyCoord</th>\n",
       "      <th>match_id</th>\n",
       "    </tr>\n",
       "  </thead>\n",
       "  <tbody>\n",
       "    <tr>\n",
       "      <th>0</th>\n",
       "      <td>22</td>\n",
       "      <td>Vinícius Júnior</td>\n",
       "      <td>F</td>\n",
       "      <td>7</td>\n",
       "      <td>True</td>\n",
       "      <td>goal</td>\n",
       "      <td>penalty</td>\n",
       "      <td>right-foot</td>\n",
       "      <td>low-right</td>\n",
       "      <td>0.7884</td>\n",
       "      <td>...</td>\n",
       "      <td>40.0</td>\n",
       "      <td>0</td>\n",
       "      <td>89.888175</td>\n",
       "      <td>7.6</td>\n",
       "      <td>NaN</td>\n",
       "      <td>NaN</td>\n",
       "      <td>18</td>\n",
       "      <td>4.062076</td>\n",
       "      <td>119</td>\n",
       "      <td>11368670</td>\n",
       "    </tr>\n",
       "  </tbody>\n",
       "</table>\n",
       "<p>1 rows × 25 columns</p>\n",
       "</div>"
      ],
      "text/plain": [
       "   Unnamed: 0             name position  jerseyNumber  isHome shotType  \\\n",
       "0          22  Vinícius Júnior        F             7    True     goal   \n",
       "\n",
       "  situation    bodyPart goalMouthLocation      xg  ...  yCoord  \\\n",
       "0   penalty  right-foot         low-right  0.7884  ...    40.0   \n",
       "\n",
       "  GoalMouthxCoord GoalMouthyCoord  GoalMouthzCoord  BlockxCoord  BlockyCoord  \\\n",
       "0               0       89.888175              7.6          NaN          NaN   \n",
       "\n",
       "   Minute  EndLocxCoord  EndLocyCoord  match_id  \n",
       "0      18      4.062076           119  11368670  \n",
       "\n",
       "[1 rows x 25 columns]"
      ]
     },
     "execution_count": 14,
     "metadata": {},
     "output_type": "execute_result"
    }
   ],
   "source": [
    "filtered_df2 = filtered_df\n",
    "filtered_df2['EndLocxCoord'] = ((filtered_df['EndLocxCoord']) * 80)/100\n",
    "filtered_df2['EndLocyCoord']=119\n",
    "filtered_df2"
   ]
  },
  {
   "cell_type": "code",
   "execution_count": 10,
   "metadata": {},
   "outputs": [],
   "source": [
    "# Create an empty list to store legend handles and labels\n",
    "legend_labels = {}\n",
    "\n",
    "for index, row in filtered_df.iterrows():\n",
    "    if row['shotType'] == 'block':\n",
    "        color_arrow = 'blue'\n",
    "        color_start = 'blue'  # lighter shade of blue for start points\n",
    "        label = 'Block'\n",
    "    elif row['shotType'] == 'miss':\n",
    "        color_arrow = 'yellow'\n",
    "        color_start = 'yellow'  # lighter shade of yellow for start points\n",
    "        label = 'Miss'\n",
    "    elif row['shotType'] == 'save':\n",
    "        color_arrow = 'red'\n",
    "        color_start = 'red'  # lighter shade of red for start points\n",
    "        label = 'Save'\n",
    "    elif row['shotType'] == 'goal':\n",
    "        color_arrow = 'black'\n",
    "        color_start = 'black'  # lighter shade of green for start points\n",
    "        label = 'Goal'\n",
    "\n",
    "    else:\n",
    "        color_arrow = 'pink'\n",
    "        color_start = 'pink'  # lighter shade of green for start points\n",
    "        label = 'Other'\n",
    "    \n",
    "    pitch.arrows(row['yCoord'], row['xCoord'], filtered_df2.loc[index, 'EndLocyCoord'], filtered_df2.loc[index, 'EndLocxCoord'],\n",
    "                 ax=ax, color=color_arrow, alpha=0.3)\n",
    "    \n",
    "    ax.scatter(filtered_df2.loc[index, 'EndLocxCoord'], filtered_df2.loc[index, 'EndLocyCoord'], color=color_arrow, label=label)\n",
    "\n",
    "    ax.scatter(row['yCoord'], row['xCoord'], color=color_start)"
   ]
  },
  {
   "cell_type": "code",
   "execution_count": 11,
   "metadata": {},
   "outputs": [],
   "source": [
    "\n",
    "ax.legend(handles=list(legend_labels.values()), loc='lower right')\n",
    "\n",
    "\n",
    "plt.show()\n"
   ]
  },
  {
   "cell_type": "code",
   "execution_count": 12,
   "metadata": {},
   "outputs": [
    {
     "data": {
      "image/png": "[encoded data removed]",
      "text/plain": [
       "<Figure size 640x480 with 1 Axes>"
      ]
     },
     "metadata": {},
     "output_type": "display_data"
    }
   ],
   "source": []
  }
 ],
 "metadata": {
  "kernelspec": {
   "display_name": "base",
   "language": "python",
   "name": "python3"
  },
  "language_info": {
   "codemirror_mode": {
    "name": "ipython",
    "version": 3
   },
   "file_extension": ".py",
   "mimetype": "text/x-python",
   "name": "python",
   "nbconvert_exporter": "python",
   "pygments_lexer": "ipython3",
   "version": "3.11.4"
  }
 },
 "nbformat": 4,
 "nbformat_minor": 2
}
